{
 "cells": [
  {
   "cell_type": "code",
   "execution_count": null,
   "id": "3c4be365",
   "metadata": {},
   "outputs": [],
   "source": [
    "!pip install numpy matplotlib networkx\n",
    "!pip install pulp"
   ]
  },
  {
   "cell_type": "code",
   "execution_count": null,
   "id": "3e99457a",
   "metadata": {},
   "outputs": [],
   "source": [
    "import networkx as nx\n",
    "import matplotlib.pyplot as plt\n",
    "import numpy as np\n",
    "import math"
   ]
  },
  {
   "cell_type": "code",
   "execution_count": null,
   "id": "6cedee4e",
   "metadata": {},
   "outputs": [],
   "source": [
    "#Création de structure de graphe    \n",
    "def create_graph(nodes , edges):\n",
    "    G = nx.Graph()\n",
    "    G.add_nodes_from(range(nodes))\n",
    "    G.add_edges_from(edges)\n",
    "    return G"
   ]
  },
  {
   "cell_type": "code",
   "execution_count": null,
   "id": "9a13bd2f",
   "metadata": {},
   "outputs": [],
   "source": [
    "def afficher_graphe(G , title=\"Graphe\"):\n",
    "    pos = nx.spring_layout(G)\n",
    "    nx.draw(G, pos, with_labels=True, node_color='lightblue', node_size=700, font_size=16, font_color='black', edge_color='gray')\n",
    "    plt.title(title)\n",
    "    plt.show()"
   ]
  },
  {
   "cell_type": "code",
   "execution_count": null,
   "id": "aeef1db2",
   "metadata": {},
   "outputs": [],
   "source": [
    "def draw_graph(G, colors, title):\n",
    "    fig, ax = plt.subplots(figsize=(10, 7))\n",
    "    pos = nx.spring_layout(G, seed=42)\n",
    "    node_colors = [colors[node] for node in G.nodes()]\n",
    "    chromatic_number = len(set(colors.values()))\n",
    "\n",
    "    nx.draw(G, pos, ax=ax, with_labels=True,\n",
    "            node_color=node_colors, cmap=plt.cm.Set1,\n",
    "            edge_color='gray', node_size=800)\n",
    "\n",
    "    ax.set_title(title, fontsize=16, fontweight='bold', color='darkblue', pad=20)\n",
    "\n",
    "    fig.text(0.92, 0.5, f\"γ = {chromatic_number}\", ha='left', va='center',\n",
    "             fontsize=14, bbox=dict(facecolor='white', edgecolor='black'))\n",
    "    plt.show()"
   ]
  },
  {
   "cell_type": "code",
   "execution_count": null,
   "id": "00bdc498",
   "metadata": {},
   "outputs": [],
   "source": [
    "#Test de la fonction create_graph :éxécution \n",
    "G = create_graph(10, [(0, 1), (0, 2), (1, 2), (1, 3), (2, 4), (3, 4), (4, 5), (5, 6), (6, 7), (7, 8), (8, 9)])\n",
    "#Affichage du graphe\n",
    "afficher_graphe(G)"
   ]
  },
  {
   "cell_type": "code",
   "execution_count": null,
   "id": "7b336cf8",
   "metadata": {},
   "outputs": [],
   "source": [
    "def welsh_powell(G):\n",
    "    nodes = sorted(G.nodes(), key=lambda x: G.degree(x), reverse=True)\n",
    "    colors = {}  \n",
    "    for node in nodes:\n",
    "        used_colors = {colors.get(neighbor) for neighbor in G.neighbors(node) if neighbor in colors}\n",
    "        color = 1\n",
    "        while color in used_colors:\n",
    "            color += 1\n",
    "        colors[node] = color\n",
    "    return colors , len(set(colors.values()))"
   ]
  },
  {
   "cell_type": "code",
   "execution_count": null,
   "id": "fd980a08",
   "metadata": {},
   "outputs": [],
   "source": [
    "colors , chromatic_number = welsh_powell(G)\n"
   ]
  },
  {
   "cell_type": "code",
   "execution_count": null,
   "id": "6823fa85",
   "metadata": {},
   "outputs": [],
   "source": [
    "def afficher_graphe_colorie(G, colors, title=\"Graphe colorié\"):\n",
    "    pos = nx.spring_layout(G)\n",
    "    color_map = [colors[node] for node in G.nodes()]\n",
    "    nx.draw(G, pos, with_labels=True, node_color=color_map, node_size=700, font_size=16, font_color='black', edge_color='gray')\n",
    "    plt.title(title)\n",
    "    plt.show()"
   ]
  },
  {
   "cell_type": "code",
   "execution_count": null,
   "id": "db189b08",
   "metadata": {},
   "outputs": [],
   "source": [
    "afficher_graphe_colorie(G, colors)"
   ]
  },
  {
   "cell_type": "markdown",
   "id": "4e7b1215",
   "metadata": {},
   "source": [
    "Exemples à tester : \n",
    "\n",
    "Créer et tester au moins 5 graphes :\n",
    "o Un petit graphe manuel (6-8 sommets)\n",
    "o Trois autres graphes de taille plus grande avec spécificités différentes selon l'algorithme choisi (avec ou sans cycles, avec des degrés de sommets similaires ou différentes, avec des pondérations variées positives et négatives si nécessaire...)\n",
    "o Un graphe généré automatiquement (optionnel mais recommandé)\n",
    "• Vérifier les résultats (cohérence des chemins, poids, nombre de couleurs…)\n",
    "• Afficher les graphes et annoter les résultats dans le rapport."
   ]
  },
  {
   "cell_type": "markdown",
   "id": "4190bc90",
   "metadata": {},
   "source": [
    "\n",
    "1. si C est un cycle alors : γ (C) = 2 si C est un cycle pair\n",
    " y(C) = 3 si C est un cycle impair\n",
    "2. γ (Kn) = n\n",
    "3. Si G est biparti, alors γ (G) = 2. En particulier si T est un arbre, alors γ (T) = 2\n",
    "4. Line graph ou graphe adjoint\n",
    "5. Transport de produits chimiques incompatibles (Exemple problématique)"
   ]
  },
  {
   "cell_type": "code",
   "execution_count": null,
   "id": "3a98a2f2",
   "metadata": {},
   "outputs": [],
   "source": [
    "G_cycle_pair = nx.cycle_graph(6)\n",
    "colors, num_colors = welsh_powell(G_cycle_pair)\n",
    "draw_graph(G_cycle_pair, colors, f\"Cycle Pair (6 sommets) - Couleurs utilisées: {num_colors}\")"
   ]
  },
  {
   "cell_type": "code",
   "execution_count": null,
   "id": "e31356fd",
   "metadata": {},
   "outputs": [],
   "source": [
    "G_cycle_impair = nx.cycle_graph(7)\n",
    "colors, num_colors = welsh_powell(G_cycle_impair)\n",
    "draw_graph(G_cycle_impair, colors, f\"Cycle Impair (7 sommets) - Couleurs utilisées: {num_colors}\")"
   ]
  },
  {
   "cell_type": "code",
   "execution_count": null,
   "id": "d773ef9d",
   "metadata": {},
   "outputs": [],
   "source": [
    "G_star = nx.star_graph(5)  \n",
    "colors, num_colors = welsh_powell(G_star)\n",
    "draw_graph(G_star, colors, f\"Graphe en étoile - Couleurs utilisées: {num_colors}\")"
   ]
  },
  {
   "cell_type": "code",
   "execution_count": null,
   "id": "a6836a3e",
   "metadata": {},
   "outputs": [],
   "source": [
    "G_big = nx.Graph()\n",
    "edges = [(0,1),(0,2),(0,3),(1,4),(1,5),(2,6),(3,7),(4,6),(5,7)]\n",
    "G_big.add_edges_from(edges)\n",
    "colors, num_colors = welsh_powell(G_big)\n",
    "draw_graph(G_big, colors, f\"Graphe complexe - Couleurs utilisées: {num_colors}\")"
   ]
  },
  {
   "cell_type": "code",
   "execution_count": null,
   "id": "eddde7b2",
   "metadata": {},
   "outputs": [],
   "source": [
    "G_tree = nx.balanced_tree(r=2, h=3)  # arbre binaire\n",
    "colors, num_colors = welsh_powell(G_tree)\n",
    "draw_graph(G_tree, colors, f\"Arbre (sans cycle) - Couleurs utilisées: {num_colors}\")"
   ]
  },
  {
   "cell_type": "code",
   "execution_count": null,
   "id": "3ef3f6e2",
   "metadata": {},
   "outputs": [],
   "source": [
    "G_auto = nx.gnp_random_graph(12, 0.3, seed=42)\n",
    "colors, num_colors = welsh_powell(G_auto)\n",
    "draw_graph(G_auto, colors, f\"Graphe aléatoire - Couleurs utilisées: {num_colors}\")"
   ]
  },
  {
   "cell_type": "code",
   "execution_count": null,
   "id": "480517c9",
   "metadata": {},
   "outputs": [],
   "source": [
    "G1 = nx.Graph()\n",
    "G1.add_edges_from([(0, 1), (1, 2), (2, 0), (2, 3), (3, 4), (4, 5)])\n",
    "colors1, num_colors1 = welsh_powell(G1)\n",
    "print(\"Graphe 1 - Petit graphe manuel :\")\n",
    "print(\"Couleurs :\", colors1)\n",
    "print(\"Nombre de couleurs :\", num_colors1)\n",
    "draw_graph(G1, colors1, f\"Graphe 1 - Manuel (Couleurs : {num_colors1})\")"
   ]
  },
  {
   "cell_type": "code",
   "execution_count": null,
   "id": "f2c9e984",
   "metadata": {},
   "outputs": [],
   "source": [
    "G2 = nx.complete_graph(8)\n",
    "colors2, num_colors2 = welsh_powell(G2)\n",
    "print(\"Graphe 2 - Complet K8 :\")\n",
    "print(\"Couleurs :\", colors2)\n",
    "print(\"Nombre de couleurs :\", num_colors2)\n",
    "draw_graph(G2, colors2, f\"Graphe 2 - Complet K8 (Couleurs : {num_colors2})\")\n"
   ]
  },
  {
   "cell_type": "code",
   "execution_count": null,
   "id": "c0cb9c9d",
   "metadata": {},
   "outputs": [],
   "source": [
    "G3 = nx.grid_2d_graph(4, 4)\n",
    "G3 = nx.convert_node_labels_to_integers(G3)  # relabel to 0..15\n",
    "colors3, num_colors3 = welsh_powell(G3)\n",
    "print(\"Graphe 3 - Grille 4x4 :\")\n",
    "print(\"Couleurs :\", colors3)\n",
    "print(\"Nombre de couleurs :\", num_colors3)\n",
    "draw_graph(G3, colors3, f\"Graphe 3 - Grille 4x4 (Couleurs : {num_colors3})\")"
   ]
  },
  {
   "cell_type": "code",
   "execution_count": null,
   "id": "1ed74f19",
   "metadata": {},
   "outputs": [],
   "source": [
    "G4 = nx.Graph()\n",
    "G4.add_weighted_edges_from([\n",
    "    (0, 1, 3), (0, 2, -2), (1, 2, 4), (2, 3, 1),\n",
    "    (3, 4, -1), (4, 5, 2), (5, 0, 1)\n",
    "])\n",
    "colors4, num_colors4 = welsh_powell(G4)\n",
    "print(\"Graphe 4 - Pondéré :\")\n",
    "print(\"Couleurs :\", colors4)\n",
    "print(\"Nombre de couleurs :\", num_colors4)\n",
    "draw_graph(G4, colors4, f\"Graphe 4 - Pondéré (Couleurs : {num_colors4})\")"
   ]
  },
  {
   "cell_type": "code",
   "execution_count": null,
   "id": "40554817",
   "metadata": {},
   "outputs": [],
   "source": [
    "G5 = nx.gnp_random_graph(10, 0.4, seed=42)\n",
    "colors5, num_colors5 = welsh_powell(G5)\n",
    "print(\"Graphe 5 - Aléatoire :\")\n",
    "print(\"Couleurs :\", colors5)\n",
    "print(\"Nombre de couleurs :\", num_colors5)\n",
    "draw_graph(G5, colors5, f\"Graphe 5 - Aléatoire (Couleurs : {num_colors5})\")"
   ]
  },
  {
   "cell_type": "markdown",
   "id": "7af62a71",
   "metadata": {},
   "source": [
    "Exemple 3 : Si G est biparti, alors γ (G) = 2. En particulier si T est un arbre, alors γ (T) = 2\n"
   ]
  },
  {
   "cell_type": "code",
   "execution_count": null,
   "id": "44b6f817",
   "metadata": {},
   "outputs": [],
   "source": [
    "# Bipartite graph: Complete bipartite K_{3, 4}\n",
    "G_bipartite = nx.complete_bipartite_graph(3, 4)\n",
    "\n",
    "# Test\n",
    "afficher_graphe(G_bipartite, \"Graphe biparti (K3,4)\")\n",
    "colors_bipartite, chromatic_bipartite = welsh_powell(G_bipartite)\n",
    "afficher_graphe_colorie(G_bipartite, colors_bipartite, \"Graphe biparti colorié\")"
   ]
  },
  {
   "cell_type": "code",
   "execution_count": null,
   "id": "6073c2e1",
   "metadata": {},
   "outputs": [],
   "source": [
    "# Tree graph (binary-like)\n",
    "edges_tree = [(0, 1), (0, 2), (1, 3), (1, 4), (2, 5), (2, 6)]\n",
    "G_tree = create_graph(7, edges_tree)\n",
    "\n",
    "# Test\n",
    "afficher_graphe(G_tree, \"Arbre (Tree)\")\n",
    "colors_tree, chromatic_tree = welsh_powell(G_tree)\n",
    "afficher_graphe_colorie(G_tree, colors_tree, \"Arbre colorié\")"
   ]
  },
  {
   "cell_type": "markdown",
   "id": "fb857197",
   "metadata": {},
   "source": [
    "En résumé, l'experience conforme au theorie:\n",
    "\n",
    "-Tout graphe biparti est 2-coloriable, donc son nombre chromatique γ(G) vaut 2.\n",
    "\n",
    "-Tout arbre étant nécessairement biparti, il possède la même propriété ; ainsi, pour n’importe quel arbre T, on obtient γ(T) = 2.\n",
    "\n",
    "Autrement dit, deux couleurs suffisent toujours pour colorier sans conflit les sommets d’un graphe biparti ou d’un arbre."
   ]
  },
  {
   "cell_type": "markdown",
   "id": "4e66ca5b",
   "metadata": {},
   "source": [
    "Exemple 4 : Line graph ou graphe adjoint"
   ]
  },
  {
   "cell_type": "code",
   "execution_count": null,
   "id": "64958335",
   "metadata": {},
   "outputs": [],
   "source": [
    "# Graphe de base G\n",
    "edges_base = [(0, 1), (0, 2), (1, 2), (1, 3), (2, 4), (3, 4), (4, 5), (5, 6)]\n",
    "G_base = create_graph(7, edges_base)\n",
    "afficher_graphe(G_base, \"Graphe de base\")\n",
    "colors_line, chromatic_line = welsh_powell(G_base)\n",
    "afficher_graphe_colorie(G_base, colors_line, \"Graph de base colorié\")\n",
    "\n",
    "# Graphe adjoint (line graph)\n",
    "G_line = nx.line_graph(G_base)\n",
    "afficher_graphe(G_line, \"Graphe adjoint (line graph)\")\n",
    "\n",
    "# Coloration du graphe adjoint\n",
    "colors_line, chromatic_line = welsh_powell(G_line)\n",
    "afficher_graphe_colorie(G_line, colors_line, \"Graphe adjoint colorié\")"
   ]
  },
  {
   "cell_type": "markdown",
   "id": "93d0b25d",
   "metadata": {},
   "source": [
    "Exemple 5 : Problématique de gestion des examens"
   ]
  },
  {
   "cell_type": "code",
   "execution_count": null,
   "id": "0bfedc4d",
   "metadata": {},
   "outputs": [],
   "source": [
    "exams = [\n",
    "    \"IGL 422\", \"IGL 433\", \"IGL 412\", \"IGL 431_Fondement\", \n",
    "    \"IGL 431_BD\", \"IGL 431_Processus\", \"IGL 442\", \"IGL 411\", \"IGL 421\"\n",
    "]\n",
    "\n",
    "exam_names = {\n",
    "    \"IGL 422\": \"Graphes et flots\", \n",
    "    \"IGL 433\": \"UX/UI Design\", \n",
    "    \"IGL 412\": \"Systèmes et applications réparties\", \n",
    "    \"IGL 431_Fondement\": \"Fondement de l'IoT\", \n",
    "    \"IGL 431_BD\": \"BD Avancées\", \n",
    "    \"IGL 431_Processus\": \"Processus de développement\", \n",
    "    \"IGL 442\": \"Intro. à la macroéconomie\", \n",
    "    \"IGL 411\": \"Algorithmique répartie\", \n",
    "    \"IGL 421\": \"Algorithmique Numérique\"\n",
    "}\n",
    "\n",
    "coefs = [1.5 , 1 , 1.5 , 1 , 1.5 , 2 , 1 , 2 , 1.5]\n",
    "horaires = [45, 33.75 , 45 , 33.75 , 45 , 67.5 , 22.5 , 67.5 , 45]\n",
    "\n",
    "# Calcul des scores des matières selon les coefficients et horaires\n",
    "def calculer_scores(coefs, horaires):\n",
    "    return [coef * horaire for coef, horaire in zip(coefs, horaires)]\n",
    "\n",
    "G = nx.Graph()\n",
    "G.add_nodes_from(exams)\n",
    "\n",
    "difficulties = calculer_scores(coefs, horaires)\n",
    "print(\"Difficultés des examens :\", difficulties)\n",
    "\n",
    "# Ajout des arêtes entre les examens\n",
    "# Ajout des arêtes avec une seule instance par paire\n",
    "for i in range(len(exams)):\n",
    "    for j in range(i + 1, len(exams)):\n",
    "        if difficulties[i] >= 20 and difficulties[j] >= 50:  # Seuils de difficulté\n",
    "            G.add_edge(exams[i], exams[j])\n",
    "\n",
    "\n",
    "afficher_graphe(G, \"Graphe des examens\")"
   ]
  },
  {
   "cell_type": "code",
   "execution_count": null,
   "id": "fb629117",
   "metadata": {},
   "outputs": [],
   "source": [
    "colors_line, chromatic_line = welsh_powell(G)\n",
    "afficher_graphe_colorie(G, colors_line, \"Graph de base colorié\")"
   ]
  },
  {
   "cell_type": "code",
   "execution_count": null,
   "id": "95ba62e2",
   "metadata": {},
   "outputs": [],
   "source": [
    "from pulp import LpProblem, LpMinimize, LpVariable, lpSum, LpBinary, value\n"
   ]
  },
  {
   "cell_type": "code",
   "execution_count": null,
   "id": "40c1bd17",
   "metadata": {},
   "outputs": [],
   "source": [
    "def ilp_coloring(G):\n",
    "    nodes = list(G.nodes())\n",
    "    edges = list(G.edges())\n",
    "    max_colors = len(nodes)  # Borne supérieure : nombre de sommets\n",
    "    \n",
    "    # Créer le problème ILP\n",
    "    prob = LpProblem(\"Graph_Coloring\", LpMinimize)\n",
    "    \n",
    "    # Variables\n",
    "    # x[v,k] = 1 si le nœud v a la couleur k\n",
    "    x = {(v, k): LpVariable(f\"x_{v}_{k}\", 0, 1, LpBinary) for v in nodes for k in range(max_colors)}\n",
    "    # w = nombre de couleurs utilisées\n",
    "    w = LpVariable(\"w\", 0, max_colors)\n",
    "    \n",
    "    # Objectif : minimiser le nombre de couleurs\n",
    "    prob += w\n",
    "    \n",
    "    # Contraintes\n",
    "    # 1. Chaque nœud a exactement une couleur\n",
    "    for v in nodes:\n",
    "        prob += lpSum(x[v, k] for k in range(max_colors)) == 1, f\"One_color_{v}\"\n",
    "    \n",
    "    # 2. Nœuds adjacents ont des couleurs différentes\n",
    "    for u, v in edges:\n",
    "        for k in range(max_colors):\n",
    "            prob += x[u, k] + x[v, k] <= 1, f\"Diff_color_{u}_{v}_{k}\"\n",
    "    \n",
    "    # 3. w >= k si la couleur k est utilisée\n",
    "    for k in range(max_colors):\n",
    "        for v in nodes:\n",
    "            prob += w >= (k + 1) * x[v, k], f\"Color_used_{v}_{k}\"\n",
    "    \n",
    "    # Résoudre\n",
    "    prob.solve()\n",
    "    \n",
    "    # Extraire la coloration\n",
    "    colors = {}\n",
    "    for v in nodes:\n",
    "        for k in range(max_colors):\n",
    "            if value(x[v, k]) > 0.5:\n",
    "                colors[v] = k + 1\n",
    "                break\n",
    "    \n",
    "    # Nombre chromatique\n",
    "    chromatic_number = int(value(w))\n",
    "    return colors, chromatic_number"
   ]
  },
  {
   "cell_type": "code",
   "execution_count": null,
   "id": "556ca56e",
   "metadata": {},
   "outputs": [],
   "source": [
    "G = nx.Graph()\n",
    "G.add_nodes_from(['a', 'b', 'c', 'd', 'e', 'f', 'g', 'h'])\n",
    "G.add_edges_from([('a', 'b'), ('b', 'c'), ('c', 'd'), ('d', 'e'), ('e', 'f'), ('f', 'a'), ('f', 'g'), ('c', 'h')])\n",
    "afficher_graphe(G, \"Graphe de test pour ILP\")"
   ]
  },
  {
   "cell_type": "code",
   "execution_count": null,
   "id": "b84ea506",
   "metadata": {},
   "outputs": [],
   "source": [
    "colors  , chromatic_number = welsh_powell(G)\n",
    "# Affichage des couleurs attribuées aux nœuds\n",
    "afficher_graphe_colorie(G, colors, \"Graphe colorié avec Welsh-Powell\")"
   ]
  },
  {
   "cell_type": "code",
   "execution_count": null,
   "id": "5bc63653",
   "metadata": {},
   "outputs": [],
   "source": [
    "# test avec l'algorithme ILP\n",
    "colors_ilp, chromatic_number = ilp_coloring(G)\n",
    "print(\"Coloration ILP :\", colors_ilp)\n",
    "afficher_graphe_colorie(G, colors_ilp, \"Graphe colorié avec ILP\")"
   ]
  }
 ],
 "metadata": {
  "kernelspec": {
   "display_name": "Python 3",
   "language": "python",
   "name": "python3"
  },
  "language_info": {
   "codemirror_mode": {
    "name": "ipython",
    "version": 3
   },
   "file_extension": ".py",
   "mimetype": "text/x-python",
   "name": "python",
   "nbconvert_exporter": "python",
   "pygments_lexer": "ipython3",
   "version": "3.12.6"
  }
 },
 "nbformat": 4,
 "nbformat_minor": 5
}
